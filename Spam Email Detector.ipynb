{
 "cells": [
  {
   "cell_type": "code",
   "execution_count": 19,
   "metadata": {},
   "outputs": [],
   "source": [
    "# Importing necessary libraries\n",
    "import pandas as pd\n",
    "import numpy as np\n",
    "from sklearn.feature_extraction.text import CountVectorizer\n",
    "from sklearn.model_selection import train_test_split\n",
    "from sklearn.naive_bayes import MultinomialNB\n",
    "import pickle\n",
    "from win32com.client import Dispatch\n",
    "import tkinter as tk"
   ]
  },
  {
   "cell_type": "code",
   "execution_count": 20,
   "metadata": {},
   "outputs": [
    {
     "data": {
      "text/html": [
       "<div>\n",
       "<style scoped>\n",
       "    .dataframe tbody tr th:only-of-type {\n",
       "        vertical-align: middle;\n",
       "    }\n",
       "\n",
       "    .dataframe tbody tr th {\n",
       "        vertical-align: top;\n",
       "    }\n",
       "\n",
       "    .dataframe thead th {\n",
       "        text-align: right;\n",
       "    }\n",
       "</style>\n",
       "<table border=\"1\" class=\"dataframe\">\n",
       "  <thead>\n",
       "    <tr style=\"text-align: right;\">\n",
       "      <th></th>\n",
       "      <th>label</th>\n",
       "      <th>message</th>\n",
       "    </tr>\n",
       "  </thead>\n",
       "  <tbody>\n",
       "    <tr>\n",
       "      <th>0</th>\n",
       "      <td>0</td>\n",
       "      <td>Go until jurong point, crazy.. Available only ...</td>\n",
       "    </tr>\n",
       "    <tr>\n",
       "      <th>1</th>\n",
       "      <td>0</td>\n",
       "      <td>Ok lar... Joking wif u oni...</td>\n",
       "    </tr>\n",
       "    <tr>\n",
       "      <th>2</th>\n",
       "      <td>1</td>\n",
       "      <td>Free entry in 2 a wkly comp to win FA Cup fina...</td>\n",
       "    </tr>\n",
       "    <tr>\n",
       "      <th>3</th>\n",
       "      <td>0</td>\n",
       "      <td>U dun say so early hor... U c already then say...</td>\n",
       "    </tr>\n",
       "    <tr>\n",
       "      <th>4</th>\n",
       "      <td>0</td>\n",
       "      <td>Nah I don't think he goes to usf, he lives aro...</td>\n",
       "    </tr>\n",
       "  </tbody>\n",
       "</table>\n",
       "</div>"
      ],
      "text/plain": [
       "   label                                            message\n",
       "0      0  Go until jurong point, crazy.. Available only ...\n",
       "1      0                      Ok lar... Joking wif u oni...\n",
       "2      1  Free entry in 2 a wkly comp to win FA Cup fina...\n",
       "3      0  U dun say so early hor... U c already then say...\n",
       "4      0  Nah I don't think he goes to usf, he lives aro..."
      ]
     },
     "execution_count": 20,
     "metadata": {},
     "output_type": "execute_result"
    }
   ],
   "source": [
    "# Loading the dataset\n",
    "dataset = pd.read_csv(\"spam.csv\", encoding=\"latin-1\")\n",
    "\n",
    "# Renaming columns for clarity\n",
    "dataset.columns = ['label', 'message', 'col3', 'col4', 'col5']\n",
    "\n",
    "# Removing unnecessary columns\n",
    "dataset.drop(['col3', 'col4', 'col5'], axis=1, inplace=True)\n",
    "\n",
    "# Mapping labels to numerical values\n",
    "dataset['label'] = dataset['label'].map({'ham': 0, 'spam': 1})\n",
    "\n",
    "# Inspecting the first few rows\n",
    "dataset.head()"
   ]
  },
  {
   "cell_type": "code",
   "execution_count": 21,
   "metadata": {},
   "outputs": [
    {
     "name": "stdout",
     "output_type": "stream",
     "text": [
      "Missing values per column:\n",
      " label      0\n",
      "message    0\n",
      "dtype: int64\n"
     ]
    }
   ],
   "source": [
    "# Splitting data into features (X) and target (y)\n",
    "X_messages = dataset['message']\n",
    "y_labels = dataset['label']\n",
    "\n",
    "# Checking for missing values\n",
    "print(\"Missing values per column:\\n\", dataset.isnull().sum())\n",
    "\n",
    "# Vectorizing the text data\n",
    "vectorizer = CountVectorizer()\n",
    "X_vectorized = vectorizer.fit_transform(X_messages)\n",
    "\n",
    "# Splitting data into training and testing sets\n",
    "X_train, X_test, y_train, y_test = train_test_split(\n",
    "    X_vectorized, y_labels, test_size=0.2, random_state=42\n",
    ")"
   ]
  },
  {
   "cell_type": "code",
   "execution_count": 22,
   "metadata": {},
   "outputs": [
    {
     "name": "stdout",
     "output_type": "stream",
     "text": [
      "Model accuracy: 0.97847533632287\n"
     ]
    }
   ],
   "source": [
    "# Training the Naive Bayes model\n",
    "spam_classifier = MultinomialNB()\n",
    "spam_classifier.fit(X_train, y_train)\n",
    "\n",
    "# Evaluating the model\n",
    "accuracy = spam_classifier.score(X_test, y_test)\n",
    "print(\"Model accuracy:\", accuracy)"
   ]
  },
  {
   "cell_type": "code",
   "execution_count": 23,
   "metadata": {},
   "outputs": [],
   "source": [
    "# Saving the model to a file\n",
    "pickle.dump(spam_classifier, open('spam_model.pkl', 'wb'))\n",
    "\n",
    "# Loading the saved model\n",
    "loaded_model = pickle.load(open('spam_model.pkl', 'rb'))"
   ]
  },
  {
   "cell_type": "code",
   "execution_count": 24,
   "metadata": {},
   "outputs": [
    {
     "name": "stdout",
     "output_type": "stream",
     "text": [
      "Prediction for sample message: Spam\n"
     ]
    }
   ],
   "source": [
    "# Testing with a sample message\n",
    "sample_message = \"Congratulations! You've won a free cruise.\"\n",
    "sample_vect = vectorizer.transform([sample_message]).toarray()\n",
    "prediction = loaded_model.predict(sample_vect)\n",
    "print(\"Prediction for sample message:\", \"Spam\" if prediction[0] else \"Not Spam\")"
   ]
  },
  {
   "cell_type": "code",
   "execution_count": 25,
   "metadata": {},
   "outputs": [],
   "source": [
    "# Function to speak the output\n",
    "def speak_message(output_text):\n",
    "    speaker = Dispatch(\"SAPI.SpVoice\")\n",
    "    speaker.Speak(output_text)"
   ]
  },
  {
   "cell_type": "code",
   "execution_count": 26,
   "metadata": {},
   "outputs": [],
   "source": [
    "# GUI Application for Spam Detection\n",
    "def create_gui():\n",
    "    root = tk.Tk()\n",
    "    root.geometry(\"400x300\")\n",
    "    root.title(\"Spam Email Classifier\")\n",
    "\n",
    "    tk.Label(root, text=\"Spam Email Classifier\", font=(\"Helvetica\", 16)).pack(pady=10)\n",
    "    tk.Label(root, text=\"Enter Email Content:\").pack(pady=5)\n",
    "\n",
    "    input_text = tk.Entry(root, width=50)\n",
    "    input_text.pack(pady=5)\n",
    "\n",
    "    def classify_message():\n",
    "        user_input = input_text.get()\n",
    "        input_vect = vectorizer.transform([user_input]).toarray()\n",
    "        prediction = loaded_model.predict(input_vect)\n",
    "        if prediction[0] == 1:\n",
    "            result_text = \"This is a Spam Email\"\n",
    "        else:\n",
    "            result_text = \"This is NOT a Spam Email\"\n",
    "        speak_message(result_text)\n",
    "        tk.Label(root, text=result_text, fg=\"blue\", font=(\"Helvetica\", 12)).pack(pady=5)\n",
    "\n",
    "    classify_button = tk.Button(root, text=\"Classify\", command=classify_message)\n",
    "    classify_button.pack(pady=10)\n",
    "\n",
    "    root.mainloop()\n",
    "\n",
    "# Launching the GUI\n",
    "create_gui()"
   ]
  }
 ],
 "metadata": {
  "kernelspec": {
   "display_name": "Python 3",
   "language": "python",
   "name": "python3"
  },
  "language_info": {
   "codemirror_mode": {
    "name": "ipython",
    "version": 3
   },
   "file_extension": ".py",
   "mimetype": "text/x-python",
   "name": "python",
   "nbconvert_exporter": "python",
   "pygments_lexer": "ipython3",
   "version": "3.12.4"
  }
 },
 "nbformat": 4,
 "nbformat_minor": 2
}
